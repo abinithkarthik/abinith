{
 "cells": [
  {
   "cell_type": "code",
   "execution_count": 2,
   "id": "eef75d49",
   "metadata": {
    "scrolled": true
   },
   "outputs": [
    {
     "name": "stdout",
     "output_type": "stream",
     "text": [
      "One dimensional array: [10 20 30 40 50]\n"
     ]
    }
   ],
   "source": [
    "import numpy as np\n",
    "a=np.array([10,20,30,40,50])\n",
    "print(\"One dimensional array:\",a)"
   ]
  },
  {
   "cell_type": "code",
   "execution_count": 4,
   "id": "802011a7",
   "metadata": {},
   "outputs": [
    {
     "name": "stdout",
     "output_type": "stream",
     "text": [
      "Two dimensional array: [[ 10  20  30  40  50]\n",
      " [ 60  70  80  90 100]]\n"
     ]
    }
   ],
   "source": [
    "import numpy as np\n",
    "b=np.array([[10,20,30,40,50],[60,70,80,90,100]])\n",
    "print(\"Two dimensional array:\",b)"
   ]
  },
  {
   "cell_type": "code",
   "execution_count": 5,
   "id": "71ab90aa",
   "metadata": {},
   "outputs": [
    {
     "name": "stdout",
     "output_type": "stream",
     "text": [
      "\n",
      " Array with all zeros:\n",
      " [[0. 0. 0. 0. 0.]\n",
      " [0. 0. 0. 0. 0.]\n",
      " [0. 0. 0. 0. 0.]]\n"
     ]
    }
   ],
   "source": [
    "import numpy as np\n",
    "c=np.zeros((3,5))\n",
    "print(\"\\n Array with all zeros:\\n\",c)"
   ]
  },
  {
   "cell_type": "code",
   "execution_count": 6,
   "id": "1fae71c8",
   "metadata": {},
   "outputs": [
    {
     "name": "stdout",
     "output_type": "stream",
     "text": [
      "\n",
      " Random value:\n",
      " [[0.35507195 0.81209456 0.8294121 ]\n",
      " [0.77540669 0.63444027 0.34330152]\n",
      " [0.32895178 0.86875831 0.01788786]]\n"
     ]
    }
   ],
   "source": [
    "import numpy as np\n",
    "d=np.random.random((3,3))\n",
    "print(\"\\n Random value:\\n\",d)"
   ]
  },
  {
   "cell_type": "code",
   "execution_count": 8,
   "id": "ad5c4df2",
   "metadata": {},
   "outputs": [
    {
     "name": "stdout",
     "output_type": "stream",
     "text": [
      "\n",
      " Range value:\n",
      " [ 0  5 10 15 20 25 30 35 40 45 50 55 60 65 70 75 80 85 90 95]\n"
     ]
    }
   ],
   "source": [
    "import numpy  as np\n",
    "e=np.arange(0,100,5)\n",
    "print(\"\\n Range value:\\n\",e)"
   ]
  },
  {
   "cell_type": "code",
   "execution_count": 9,
   "id": "c2f0f52e",
   "metadata": {},
   "outputs": [
    {
     "name": "stdout",
     "output_type": "stream",
     "text": [
      "\n",
      " Original array:\n",
      " [[ 1  2  3  4]\n",
      " [ 5  6  7  8]\n",
      " [ 9 10 11 12]]\n",
      "\n",
      " Reshaped array [4,3]:\n",
      " [[ 1  2  3]\n",
      " [ 4  5  6]\n",
      " [ 7  8  9]\n",
      " [10 11 12]]\n"
     ]
    }
   ],
   "source": [
    "arr=np.array([[1,2,3,4],[5,6,7,8],[9,10,11,12]])\n",
    "newarr=arr.reshape((4,3))\n",
    "print(\"\\n Original array:\\n\",arr)\n",
    "print(\"\\n Reshaped array [4,3]:\\n\", newarr)"
   ]
  },
  {
   "cell_type": "code",
   "execution_count": 17,
   "id": "4287ab40",
   "metadata": {},
   "outputs": [
    {
     "name": "stdout",
     "output_type": "stream",
     "text": [
      "\n",
      " Array with all zeros\n",
      " [[0. 0. 0.]\n",
      " [0. 0. 0.]\n",
      " [0. 0. 0.]\n",
      " [0. 0. 0.]\n",
      " [0. 0. 0.]]\n",
      "\n",
      " Array with random values/n [[0.98179856 0.9309802  0.36974099]\n",
      " [0.40027905 0.85439897 0.30231673]\n",
      " [0.26512575 0.05748828 0.27946706]\n",
      " [0.78200031 0.81602014 0.04409677]\n",
      " [0.88573047 0.3286429  0.87819358]]\n",
      "\n",
      " No. of dimensions: 2\n",
      "\n",
      " Strip size array \n",
      " [  0   5  10  15  20  25  30  35  40  45  50  55  60  65  70  75  80  85\n",
      "  90  95 100]\n",
      "\n",
      " Reshaped array\n",
      " [[ 1  2  3  5  6]\n",
      " [ 7  9 10 11 13]\n",
      " [14 15 17 18 19]]\n"
     ]
    }
   ],
   "source": [
    "#program 7.1\n",
    "import numpy as np\n",
    "c=np.zeros((5,3))\n",
    "print(\"\\n Array with all zeros\\n\",c)\n",
    "\n",
    "#program 7.2\n",
    "import numpy as rnp\n",
    "r=rnp.random.random((5,3))\n",
    "print(\"\\n Array with random values/n\",r)\n",
    "print(\"\\n No. of dimensions:\",arr.ndim)\n",
    "\n",
    "#program 7.3\n",
    "import numpy as snp\n",
    "s=snp.arange(0,105,5)\n",
    "print(\"\\n Strip size array \\n\",s)\n",
    "\n",
    "#program 7.4\n",
    "arr=rnp.array([[1,2,3],[5,6,7],[9,10,11],[13,14,15],[17,18,19]])\n",
    "newarr=arr.reshape(3,5)\n",
    "print(\"\\n Reshaped array\\n\",newarr)"
   ]
  },
  {
   "cell_type": "code",
   "execution_count": 20,
   "id": "3ff8fc6f",
   "metadata": {},
   "outputs": [
    {
     "name": "stdout",
     "output_type": "stream",
     "text": [
      "Flattened array\n",
      " [1 2 3 4 5 6 7 8 9]\n"
     ]
    }
   ],
   "source": [
    "#program 8\n",
    "import numpy as np\n",
    "arr=np.array([[1,2,3],[4,5,6],[7,8,9]])\n",
    "flat=arr.flatten()\n",
    "print(\"Flattened array\\n\",flat)"
   ]
  },
  {
   "cell_type": "code",
   "execution_count": 12,
   "id": "7da84e3f",
   "metadata": {},
   "outputs": [
    {
     "name": "stdout",
     "output_type": "stream",
     "text": [
      "\n",
      " No.of dimensions: 2\n"
     ]
    }
   ],
   "source": [
    "#program 9\n",
    "import numpy as rnp\n",
    "r=rnp.random.random((5,2))\n",
    "print(\"\\n No.of dimensions:\",r.ndim)"
   ]
  },
  {
   "cell_type": "code",
   "execution_count": 9,
   "id": "f2397fb9",
   "metadata": {},
   "outputs": [
    {
     "name": "stdout",
     "output_type": "stream",
     "text": [
      "\n",
      " shape of array: (5, 3)\n"
     ]
    }
   ],
   "source": [
    "#program 10\n",
    "import numpy as np\n",
    "a=np.array([[1,2,3],[4,5,6],[7,8,9],[10,11,12],[13,14,15]])\n",
    "print(\"\\n shape of array:\",a.shape)"
   ]
  },
  {
   "cell_type": "code",
   "execution_count": 18,
   "id": "a6fb58e4",
   "metadata": {},
   "outputs": [
    {
     "name": "stdout",
     "output_type": "stream",
     "text": [
      "\n",
      " convert array element:\n",
      " [1. 2. 3.]\n",
      "convert array: float32\n"
     ]
    }
   ],
   "source": [
    "#program 11\n",
    "import numpy as a\n",
    "arr=a.array([1,2,3])\n",
    "newtype=arr.astype(\"f\")\n",
    "print(\"\\n convert array element:\\n\",newtype)\n",
    "print(\"convert array:\",newtype.dtype)"
   ]
  },
  {
   "cell_type": "code",
   "execution_count": 24,
   "id": "b6ad21dc",
   "metadata": {},
   "outputs": [
    {
     "name": "stdout",
     "output_type": "stream",
     "text": [
      "\n",
      " Size of the array:\n",
      " 3\n"
     ]
    }
   ],
   "source": [
    "#program 12\n",
    "import numpy as a\n",
    "arr=a.array([1,2,3])\n",
    "size=len(arr)\n",
    "print(\"\\n Size of the array:\\n\",size)"
   ]
  },
  {
   "cell_type": "code",
   "execution_count": null,
   "id": "71bbb4b3",
   "metadata": {},
   "outputs": [],
   "source": []
  }
 ],
 "metadata": {
  "kernelspec": {
   "display_name": "Python 3 (ipykernel)",
   "language": "python",
   "name": "python3"
  },
  "language_info": {
   "codemirror_mode": {
    "name": "ipython",
    "version": 3
   },
   "file_extension": ".py",
   "mimetype": "text/x-python",
   "name": "python",
   "nbconvert_exporter": "python",
   "pygments_lexer": "ipython3",
   "version": "3.11.3"
  }
 },
 "nbformat": 4,
 "nbformat_minor": 5
}
