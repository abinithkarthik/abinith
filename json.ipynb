{
 "cells": [
  {
   "cell_type": "code",
   "execution_count": 7,
   "id": "8198a48e",
   "metadata": {},
   "outputs": [],
   "source": [
    "f=open(\"D:/saitf.txt\",\"w\")\n",
    "f.write(\"Wake up early\\n\")\n",
    "f.write(\"Read daily\\n\")\n",
    "f.write(\"Pray to God\\n\")\n",
    "f.close()"
   ]
  },
  {
   "cell_type": "code",
   "execution_count": 8,
   "id": "b7c33c53",
   "metadata": {},
   "outputs": [
    {
     "name": "stdout",
     "output_type": "stream",
     "text": [
      "Wake up early\n",
      "\n",
      "Read daily\n",
      "\n",
      "Pray to God\n",
      "\n"
     ]
    }
   ],
   "source": [
    "a=open(\"D:/saitf.txt\",\"r\")\n",
    "print(a.readline())\n",
    "print(a.readline())\n",
    "print(a.readline())\n",
    "a.close()"
   ]
  },
  {
   "cell_type": "code",
   "execution_count": 9,
   "id": "717462ff",
   "metadata": {},
   "outputs": [
    {
     "name": "stdout",
     "output_type": "stream",
     "text": [
      "Wake up early\n",
      "Read daily\n",
      "Pray to God\n",
      "Help others\n",
      "Be Smart\n",
      "\n"
     ]
    }
   ],
   "source": [
    "b=open(\"D:/saitf.txt\",\"a\")\n",
    "b.write(\"Help others\\n\")\n",
    "b.write(\"Be Smart\\n\")\n",
    "b.close()\n",
    "c=open(\"D:saitf.txt\",\"r\")\n",
    "print(c.read())\n",
    "c.close()"
   ]
  },
  {
   "cell_type": "code",
   "execution_count": 11,
   "id": "8cce044e",
   "metadata": {},
   "outputs": [
    {
     "name": "stdout",
     "output_type": "stream",
     "text": [
      "['Wake up early\\n', 'Read daily\\n', 'Pray to God\\n', 'Help others\\n', 'Be Smart\\n']\n"
     ]
    }
   ],
   "source": [
    "with open(\"D:saitf.txt\",\"r\")as file:\n",
    "    lines=file.readlines()\n",
    "    print(lines)"
   ]
  },
  {
   "cell_type": "code",
   "execution_count": 14,
   "id": "80c8eb7a",
   "metadata": {},
   "outputs": [
    {
     "name": "stdout",
     "output_type": "stream",
     "text": [
      "London\n"
     ]
    }
   ],
   "source": [
    "import json\n",
    "X='{\"Name\":\"Sai\",\"Age\":20,\"City\":\"London\"}'\n",
    "Y=json.loads(X)\n",
    "print(Y[\"City\"])"
   ]
  },
  {
   "cell_type": "code",
   "execution_count": 19,
   "id": "c2572e4e",
   "metadata": {},
   "outputs": [
    {
     "name": "stdout",
     "output_type": "stream",
     "text": [
      "{\"Name\": \"Sai\", \"Age\": 20, \"City\": \"London\"}\n"
     ]
    }
   ],
   "source": [
    "X={\"Name\":\"Sai\",\"Age\":20,\"City\":\"London\"}\n",
    "Y=json.dumps(X)\n",
    "print(Y)"
   ]
  },
  {
   "cell_type": "code",
   "execution_count": null,
   "id": "d141d1e2",
   "metadata": {},
   "outputs": [],
   "source": []
  }
 ],
 "metadata": {
  "kernelspec": {
   "display_name": "Python 3 (ipykernel)",
   "language": "python",
   "name": "python3"
  },
  "language_info": {
   "codemirror_mode": {
    "name": "ipython",
    "version": 3
   },
   "file_extension": ".py",
   "mimetype": "text/x-python",
   "name": "python",
   "nbconvert_exporter": "python",
   "pygments_lexer": "ipython3",
   "version": "3.11.3"
  }
 },
 "nbformat": 4,
 "nbformat_minor": 5
}
