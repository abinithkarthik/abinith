{
 "cells": [
  {
   "cell_type": "code",
   "execution_count": 3,
   "id": "ae9aafab",
   "metadata": {},
   "outputs": [
    {
     "name": "stdout",
     "output_type": "stream",
     "text": [
      "DataFrame.apply function:\n",
      "\n",
      "\n",
      " Original DataFrame:\n",
      "    S  R\n",
      "0  3  9\n",
      "1  3  9\n",
      "2  3  9\n",
      "3  3  9\n",
      "n Square root of DataFrame\n",
      "           S    R\n",
      "0  1.732051  3.0\n",
      "1  1.732051  3.0\n",
      "2  1.732051  3.0\n",
      "3  1.732051  3.0\n",
      "n sum of each Column:\n",
      " S    12\n",
      "R    36\n",
      "dtype: int64\n",
      "n sum of each row:\n",
      " 0    12\n",
      "1    12\n",
      "2    12\n",
      "3    12\n",
      "dtype: int64\n"
     ]
    }
   ],
   "source": [
    "import pandas as pd\n",
    "import numpy as np\n",
    "print(\"DataFrame.apply function:\\n\")\n",
    "info=pd.DataFrame([[3,9]]*4,columns=['S','R'])\n",
    "print(\"\\n Original DataFrame:\\n\",info)\n",
    "print(\"n Square root of DataFrame\\n\",info.apply(np.sqrt))\n",
    "print(\"n sum of each Column:\\n\",info.apply(np.sum,axis=0))\n",
    "print(\"n sum of each row:\\n\", info.apply(np.sum,axis=1))"
   ]
  },
  {
   "cell_type": "code",
   "execution_count": 3,
   "id": "c0ea35a7",
   "metadata": {},
   "outputs": [
    {
     "name": "stdout",
     "output_type": "stream",
     "text": [
      "Original DataFrame:\n",
      "    0  1  2\n",
      "0  2  4  6\n",
      "1  1  3  5\n",
      "2  5  8  7\n",
      "\n",
      "Minimum & Maximum of each column:\n",
      "\n",
      "     0  1  2\n",
      "min  1  3  5\n",
      "max  5  8  7\n",
      "\n",
      "      0   1  Age\n",
      "0  Sai  88   20\n",
      "1  Poo  70   18\n",
      "     0   1  Age   sex\n",
      "0  Sai  88   20  Male\n",
      "1  Poo  70   18  Male\n"
     ]
    }
   ],
   "source": [
    "import pandas as pd\n",
    "import numpy as np\n",
    "info=pd.DataFrame([[2,4,6],[1,3,5],[5,8,7]])\n",
    "col=['X','Y','Z']\n",
    "print(\"Original DataFrame:\\n\",info)\n",
    "print(\"\\nMinimum & Maximum of each column:\\n\")\n",
    "print(info.agg(['min','max']))\n",
    "d2=pd.DataFrame([['Sai',88],['Poo',70]])\n",
    "d2['Age']=[20,18]\n",
    "column=['EMP','ID']\n",
    "print(\"\\n\",d2)\n",
    "d=d2.assign(sex=['Male','Male'])\n",
    "print(d)"
   ]
  },
  {
   "cell_type": "code",
   "execution_count": 4,
   "id": "bc8e2e45",
   "metadata": {},
   "outputs": [
    {
     "name": "stdout",
     "output_type": "stream",
     "text": [
      "       col3      col4\n",
      "3 -1.094736 -0.249737\n",
      "2  0.351527 -0.281753\n",
      "0 -1.037146 -0.295872\n",
      "4  0.854518  0.774746\n",
      "1  0.785183 -1.354725\n",
      "       col3      col4\n",
      "0 -1.037146 -0.295872\n",
      "1  0.785183 -1.354725\n",
      "2  0.351527 -0.281753\n",
      "3 -1.094736 -0.249737\n",
      "4  0.854518  0.774746\n",
      "       col3      col4\n",
      "3 -1.094736 -0.249737\n",
      "0 -1.037146 -0.295872\n",
      "2  0.351527 -0.281753\n",
      "1  0.785183 -1.354725\n",
      "4  0.854518  0.774746\n"
     ]
    }
   ],
   "source": [
    "import pandas as pd\n",
    "import numpy as np\n",
    "info=pd.DataFrame(np.random.randn(5,2),index=[3,2,0,4,1],columns=['col3','col4'])\n",
    "print(info)\n",
    "info2=info.sort_index()\n",
    "info3=info.sort_values(by='col3')\n",
    "print(info2)\n",
    "print(info3)"
   ]
  },
  {
   "cell_type": "code",
   "execution_count": 10,
   "id": "c72292ba",
   "metadata": {},
   "outputs": [
    {
     "name": "stdout",
     "output_type": "stream",
     "text": [
      "   id Name_x sub_x Name_y sub_y\n",
      "0   1    Sai  sub1      A  sub4\n",
      "1   2   Bala  sub2      B  sub5\n",
      "2   3    Kar  sub3      C  sub6\n"
     ]
    }
   ],
   "source": [
    "import pandas as pd\n",
    "import numpy as np\n",
    "left=pd.DataFrame({'id':[1,2,3],'Name':['Sai','Bala','Kar'],'sub':['sub1','sub2','sub3']})\n",
    "right=pd.DataFrame({'id':[1,2,3],'Name':['A','B','C'],'sub':['sub4','sub5','sub6']})\n",
    "print(pd.merge(left,right,on=\"id\"))\n"
   ]
  },
  {
   "cell_type": "code",
   "execution_count": null,
   "id": "3d409d12",
   "metadata": {},
   "outputs": [],
   "source": []
  },
  {
   "cell_type": "code",
   "execution_count": null,
   "id": "99578412",
   "metadata": {},
   "outputs": [],
   "source": []
  }
 ],
 "metadata": {
  "kernelspec": {
   "display_name": "Python 3 (ipykernel)",
   "language": "python",
   "name": "python3"
  },
  "language_info": {
   "codemirror_mode": {
    "name": "ipython",
    "version": 3
   },
   "file_extension": ".py",
   "mimetype": "text/x-python",
   "name": "python",
   "nbconvert_exporter": "python",
   "pygments_lexer": "ipython3",
   "version": "3.11.5"
  }
 },
 "nbformat": 4,
 "nbformat_minor": 5
}
