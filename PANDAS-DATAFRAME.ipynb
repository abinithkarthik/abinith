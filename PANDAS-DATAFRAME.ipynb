{
 "cells": [
  {
   "cell_type": "code",
   "execution_count": 4,
   "id": "f9d2c86a",
   "metadata": {},
   "outputs": [
    {
     "name": "stdout",
     "output_type": "stream",
     "text": [
      "Empty DataFrame\n",
      "Columns: []\n",
      "Index: []\n"
     ]
    }
   ],
   "source": [
    "import pandas as pd\n",
    "df=pd.DataFrame()\n",
    "print(df)"
   ]
  },
  {
   "cell_type": "markdown",
   "id": "bddfde5d",
   "metadata": {},
   "source": []
  },
  {
   "cell_type": "code",
   "execution_count": 25,
   "id": "7aca6fae",
   "metadata": {},
   "outputs": [
    {
     "name": "stdout",
     "output_type": "stream",
     "text": [
      "\n",
      " Series to Data Frame:\n",
      "\n",
      "         Emp  ID\n",
      "0   Dharshan  80\n",
      "1     Sudeep  90\n",
      "2       Siva  28\n",
      "3       Yash  57\n",
      "4  Keerthana  49\n",
      "\n",
      " Extracting one Column:\n",
      "\n",
      "0     Dharshan\n",
      "1       Sudeep\n",
      "2         Siva\n",
      "3         Yash\n",
      "4    Keerthana\n",
      "Name: Emp, dtype: object\n",
      "\n",
      " Adding new Columns:\n",
      "\n",
      "         Emp  ID  Age\n",
      "0   Dharshan  80   28\n",
      "1     Sudeep  90   32\n",
      "2       Siva  28   47\n",
      "3       Yash  56   52\n",
      "4  Keerthana  70   61\n",
      "\n",
      "Deleting new Column\n",
      "         Emp  ID\n",
      "0   Dharshan  80\n",
      "1     Sudeep  90\n",
      "2       Siva  28\n",
      "3       Yash  56\n",
      "4  Keerthana  70\n",
      "\n",
      " Extracting the Second row:\n",
      "\n",
      "Emp    Sudeep\n",
      "ID         90\n",
      "Name: 1, dtype: object\n",
      "Slice rows:\n",
      "       Emp  ID\n",
      "1  Sudeep  90\n",
      "2    Siva  28\n",
      "3    Yash  56\n",
      "\n",
      " Deleting particular row:\n",
      "          Emp  ID\n",
      "0   Dharshan  80\n",
      "1     Sudeep  90\n",
      "3       Yash  56\n",
      "4  Keerthana  70\n"
     ]
    }
   ],
   "source": [
    "import pandas as pd\n",
    "emp=pd.Series(['Dharshan','Sudeep','Siva','Yash','Keerthana'])\n",
    "id=pd.Series([80,90,28,57,49])\n",
    "frame={'Emp':emp,'ID':id}\n",
    "result=pd.DataFrame(frame)\n",
    "print(\"\\n Series to Data Frame:\\n\")\n",
    "print(result)\n",
    "print(\"\\n Extracting one Column:\\n\")\n",
    "print(result['Emp'])\n",
    "print(\"\\n Adding new Columns:\\n\")\n",
    "result['ID']=pd.Series([80,90,28,56,70])\n",
    "result['Age']=pd.Series([28,32,47,52,61])\n",
    "print(result)\n",
    "print(\"\\nDeleting new Column\")\n",
    "del result['Age']\n",
    "print(result)\n",
    "print(\"\\n Extracting the Second row:\\n\")\n",
    "print(result.loc[1])\n",
    "print(\"Slice rows:\\n\",result[1:4])\n",
    "d2=pd.DataFrame([['Vicky',100],['Rishid',110]],columns=['EMP','ID'])\n",
    "print(\"\\n Deleting particular row:\\n\",result.drop(2))"
   ]
  },
  {
   "cell_type": "code",
   "execution_count": null,
   "id": "e777f0c4",
   "metadata": {},
   "outputs": [],
   "source": []
  },
  {
   "cell_type": "code",
   "execution_count": null,
   "id": "f8eed98c",
   "metadata": {},
   "outputs": [],
   "source": []
  }
 ],
 "metadata": {
  "kernelspec": {
   "display_name": "Python 3 (ipykernel)",
   "language": "python",
   "name": "python3"
  },
  "language_info": {
   "codemirror_mode": {
    "name": "ipython",
    "version": 3
   },
   "file_extension": ".py",
   "mimetype": "text/x-python",
   "name": "python",
   "nbconvert_exporter": "python",
   "pygments_lexer": "ipython3",
   "version": "3.11.5"
  }
 },
 "nbformat": 4,
 "nbformat_minor": 5
}
