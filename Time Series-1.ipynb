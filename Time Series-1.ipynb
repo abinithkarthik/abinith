{
 "cells": [
  {
   "cell_type": "code",
   "execution_count": 2,
   "id": "8f475806",
   "metadata": {},
   "outputs": [
    {
     "name": "stdout",
     "output_type": "stream",
     "text": [
      "today_nowfunction: 2025-04-07 08:43:41.831024\n",
      "2025-04-07 08:43:41.831160\n"
     ]
    }
   ],
   "source": [
    "import datetime\n",
    "a=datetime.datetime.now()\n",
    "print(\"today_nowfunction:\",a)\n",
    "today=datetime.datetime.today()\n",
    "print(today)"
   ]
  },
  {
   "cell_type": "code",
   "execution_count": 9,
   "id": "a805b7a2",
   "metadata": {},
   "outputs": [
    {
     "name": "stdout",
     "output_type": "stream",
     "text": [
      "2025-04-10 08:43:41.831160\n"
     ]
    }
   ],
   "source": [
    "threedayafter=today+datetime.timedelta(days=3)\n",
    "print(threedayafter)"
   ]
  },
  {
   "cell_type": "code",
   "execution_count": 18,
   "id": "d6ffecf2",
   "metadata": {},
   "outputs": [
    {
     "name": "stdout",
     "output_type": "stream",
     "text": [
      "2025-04-06 08:43:41.831160\n"
     ]
    }
   ],
   "source": [
    "yesterday=today-datetime.timedelta(days=1)\n",
    "print(yesterday)"
   ]
  },
  {
   "cell_type": "code",
   "execution_count": 26,
   "id": "1b112234",
   "metadata": {},
   "outputs": [
    {
     "name": "stdout",
     "output_type": "stream",
     "text": [
      "Replacing date 2024-12-31 2024-12-15\n"
     ]
    }
   ],
   "source": [
    "from datetime import date\n",
    "d=date(2024, 12, 31)\n",
    "print(\"Replacing date\",d,d.replace(day=15))"
   ]
  },
  {
   "cell_type": "code",
   "execution_count": 31,
   "id": "b0a2f6ba",
   "metadata": {},
   "outputs": [
    {
     "name": "stdout",
     "output_type": "stream",
     "text": [
      "2025-04-05 Sat Apr  5 00:00:00 2025\n"
     ]
    }
   ],
   "source": [
    "t=date(2025,0o4,0o5)\n",
    "d=date(2025,0o4,0o5).ctime()\n",
    "print(t,d)"
   ]
  },
  {
   "cell_type": "code",
   "execution_count": 32,
   "id": "b7356082",
   "metadata": {},
   "outputs": [
    {
     "name": "stdout",
     "output_type": "stream",
     "text": [
      "2025-04-07\n",
      "2025\n",
      "4\n",
      "7\n"
     ]
    }
   ],
   "source": [
    "today=date.today()\n",
    "print(today)\n",
    "print(today.year)\n",
    "print(today.month)\n",
    "print(today.day)"
   ]
  },
  {
   "cell_type": "code",
   "execution_count": null,
   "id": "4bb7691d",
   "metadata": {},
   "outputs": [],
   "source": []
  }
 ],
 "metadata": {
  "kernelspec": {
   "display_name": "Python 3 (ipykernel)",
   "language": "python",
   "name": "python3"
  },
  "language_info": {
   "codemirror_mode": {
    "name": "ipython",
    "version": 3
   },
   "file_extension": ".py",
   "mimetype": "text/x-python",
   "name": "python",
   "nbconvert_exporter": "python",
   "pygments_lexer": "ipython3",
   "version": "3.11.5"
  }
 },
 "nbformat": 4,
 "nbformat_minor": 5
}
